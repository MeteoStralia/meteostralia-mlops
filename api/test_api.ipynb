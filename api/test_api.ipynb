{
 "cells": [
  {
   "cell_type": "code",
   "execution_count": null,
   "metadata": {},
   "outputs": [],
   "source": [
    "import csv"
   ]
  },
  {
   "cell_type": "code",
   "execution_count": 4,
   "metadata": {},
   "outputs": [
    {
     "name": "stdout",
     "output_type": "stream",
     "text": [
      "['id_Location', 'id_Date', 'RainTomorrowpred', 'Date', 'Location']\n",
      "['Adelaide', '2025-03-19', '0', '2025-03-19', '2025-03-19']\n",
      "['Albury', '2025-03-19', '0', '2025-03-19', '2025-03-19']\n",
      "['AliceSprings', '2025-03-19', '0', '2025-03-19', '2025-03-19']\n",
      "['BadgerysCreek', '2025-03-19', '0', '2025-03-19', '2025-03-19']\n",
      "['Ballarat', '2025-03-19', '0', '2025-03-19', '2025-03-19']\n",
      "['Bendigo', '2025-03-19', '0', '2025-03-19', '2025-03-19']\n",
      "['Brisbane', '2025-03-19', '0', '2025-03-19', '2025-03-19']\n",
      "['Cairns', '2025-03-19', '1', '2025-03-19', '2025-03-19']\n",
      "['Canberra', '2025-03-19', '0', '2025-03-19', '2025-03-19']\n",
      "['Cobar', '2025-03-19', '0', '2025-03-19', '2025-03-19']\n",
      "['Darwin', '2025-03-19', '1', '2025-03-19', '2025-03-19']\n",
      "['GoldCoast', '2025-03-19', '0', '2025-03-19', '2025-03-19']\n",
      "['Hobart', '2025-03-19', '0', '2025-03-19', '2025-03-19']\n",
      "['Katherine', '2025-03-19', '0', '2025-03-19', '2025-03-19']\n",
      "['MelbourneAirport', '2025-03-19', '0', '2025-03-19', '2025-03-19']\n",
      "['Mildura', '2025-03-19', '0', '2025-03-19', '2025-03-19']\n",
      "['Moree', '2025-03-19', '0', '2025-03-19', '2025-03-19']\n",
      "['MountGambier', '2025-03-19', '0', '2025-03-19', '2025-03-19']\n",
      "['Newcastle', '2025-03-19', '0', '2025-03-19', '2025-03-19']\n",
      "['Nhil', '2025-03-19', '0', '2025-03-19', '2025-03-19']\n",
      "['NorahHead', '2025-03-19', '0', '2025-03-19', '2025-03-19']\n",
      "['NorfolkIsland', '2025-03-19', '0', '2025-03-19', '2025-03-19']\n",
      "['Nuriootpa', '2025-03-19', '0', '2025-03-19', '2025-03-19']\n",
      "['Perth', '2025-03-19', '1', '2025-03-19', '2025-03-19']\n",
      "['PerthAirport', '2025-03-19', '0', '2025-03-19', '2025-03-19']\n",
      "['Portland', '2025-03-19', '0', '2025-03-19', '2025-03-19']\n",
      "['Sydney', '2025-03-19', '0', '2025-03-19', '2025-03-19']\n",
      "['SydneyAirport', '2025-03-19', '1', '2025-03-19', '2025-03-19']\n",
      "['Townsville', '2025-03-19', '1', '2025-03-19', '2025-03-19']\n",
      "['Tuggeranong', '2025-03-19', '0', '2025-03-19', '2025-03-19']\n",
      "['WaggaWagga', '2025-03-19', '0', '2025-03-19', '2025-03-19']\n",
      "['Walpole', '2025-03-19', '0', '2025-03-19', '2025-03-19']\n",
      "['Watsonia', '2025-03-19', '0', '2025-03-19', '2025-03-19']\n",
      "['Williamtown', '2025-03-19', '0', '2025-03-19', '2025-03-19']\n",
      "['Witchcliffe', '2025-03-19', '0', '2025-03-19', '2025-03-19']\n",
      "['Wollongong', '2025-03-19', '0', '2025-03-19', '2025-03-19']\n",
      "['Woomera', '2025-03-19', '0', '2025-03-19', '2025-03-19']\n"
     ]
    }
   ],
   "source": [
    "with open('../data/predictions/RainTomorrow_1742487379.csv', newline ='') as csvfile:\n",
    "            predictions = csv.reader(csvfile)\n",
    "            for row in predictions:\n",
    "                print(row)"
   ]
  },
  {
   "cell_type": "code",
   "execution_count": null,
   "metadata": {},
   "outputs": [
    {
     "ename": "ValueError",
     "evalue": "I/O operation on closed file.",
     "output_type": "error",
     "traceback": [
      "\u001b[0;31m---------------------------------------------------------------------------\u001b[0m",
      "\u001b[0;31mValueError\u001b[0m                                Traceback (most recent call last)",
      "Cell \u001b[0;32mIn[3], line 1\u001b[0m\n\u001b[0;32m----> 1\u001b[0m \u001b[38;5;28;01mfor\u001b[39;00m row \u001b[38;5;129;01min\u001b[39;00m predictions:\n\u001b[1;32m      2\u001b[0m     \u001b[38;5;28mprint\u001b[39m(row)\n",
      "\u001b[0;31mValueError\u001b[0m: I/O operation on closed file."
     ]
    }
   ],
   "source": []
  },
  {
   "cell_type": "code",
   "execution_count": 1,
   "metadata": {},
   "outputs": [],
   "source": [
    "import requests"
   ]
  },
  {
   "cell_type": "code",
   "execution_count": 53,
   "metadata": {},
   "outputs": [
    {
     "name": "stdout",
     "output_type": "stream",
     "text": [
      "200\n",
      "{'message': 'Welcome to Meteostralia from API disconnected'}\n"
     ]
    }
   ],
   "source": [
    "for i in range(10):\n",
    "    r = requests.get('http://localhost:2222/',\n",
    "                     headers = {\"Authorization\": \"Bearer {None}\"})\n",
    "\n",
    "\n",
    "print(r.status_code)\n",
    "print(r.json())"
   ]
  },
  {
   "cell_type": "code",
   "execution_count": 54,
   "metadata": {},
   "outputs": [],
   "source": [
    "#faire des mauvais login\n",
    "for i in range (5):\n",
    "    r = requests.post('http://localhost:2222/login',\n",
    "                      data = {'username' : 'user1',\n",
    "                              'password' : 'passwd1'})"
   ]
  },
  {
   "cell_type": "code",
   "execution_count": 55,
   "metadata": {},
   "outputs": [],
   "source": [
    "#faire des bons login\n",
    "for i in range(10):\n",
    "    r = requests.post('http://localhost:2222/login',\n",
    "                      data = {'username' : 'user1',\n",
    "                              'password' : 'password1'})"
   ]
  },
  {
   "cell_type": "code",
   "execution_count": null,
   "metadata": {},
   "outputs": [],
   "source": []
  }
 ],
 "metadata": {
  "kernelspec": {
   "display_name": "env",
   "language": "python",
   "name": "python3"
  },
  "language_info": {
   "codemirror_mode": {
    "name": "ipython",
    "version": 3
   },
   "file_extension": ".py",
   "mimetype": "text/x-python",
   "name": "python",
   "nbconvert_exporter": "python",
   "pygments_lexer": "ipython3",
   "version": "3.10.6"
  }
 },
 "nbformat": 4,
 "nbformat_minor": 2
}
