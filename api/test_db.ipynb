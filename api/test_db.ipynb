{
 "cells": [
  {
   "cell_type": "code",
   "execution_count": 1,
   "metadata": {},
   "outputs": [],
   "source": [
    "import sqlite3\n",
    "import bcrypt"
   ]
  },
  {
   "cell_type": "code",
   "execution_count": 2,
   "metadata": {},
   "outputs": [],
   "source": [
    "conn = sqlite3.connect('../database.db')\n",
    "cursor = conn.cursor()\n",
    "\n",
    "cursor.execute('''\n",
    "CREATE TABLE IF NOT EXISTS users (\n",
    "    username TEXT NOT NULL,\n",
    "    password TEXT NOT NULL,\n",
    "    email TEXT NOT NULL,\n",
    "    scope TEXT,\n",
    "    disabled BOOL,\n",
    "    UNIQUE (username, email)\n",
    "    )\n",
    "''')\n",
    "\n",
    "conn.close()"
   ]
  },
  {
   "cell_type": "code",
   "execution_count": 3,
   "metadata": {},
   "outputs": [],
   "source": [
    "def get_hash(password):\n",
    "    return bcrypt.hashpw(password.encode('utf-8'), bcrypt.gensalt())"
   ]
  },
  {
   "cell_type": "code",
   "execution_count": 7,
   "metadata": {},
   "outputs": [],
   "source": [
    "username = 'user1'\n",
    "email = 'user1@mail.com'\n",
    "hashed_password = get_hash('password1')\n",
    "scope = 'user'\n",
    "disabled = False\n"
   ]
  },
  {
   "cell_type": "code",
   "execution_count": 8,
   "metadata": {},
   "outputs": [
    {
     "ename": "IntegrityError",
     "evalue": "UNIQUE constraint failed: users.username, users.email",
     "output_type": "error",
     "traceback": [
      "\u001b[0;31m---------------------------------------------------------------------------\u001b[0m",
      "\u001b[0;31mIntegrityError\u001b[0m                            Traceback (most recent call last)",
      "Cell \u001b[0;32mIn[8], line 3\u001b[0m\n\u001b[1;32m      1\u001b[0m conn \u001b[38;5;241m=\u001b[39m sqlite3\u001b[38;5;241m.\u001b[39mconnect(\u001b[38;5;124m'\u001b[39m\u001b[38;5;124m../database.db\u001b[39m\u001b[38;5;124m'\u001b[39m)\n\u001b[1;32m      2\u001b[0m cur \u001b[38;5;241m=\u001b[39m conn\u001b[38;5;241m.\u001b[39mcursor()\n\u001b[0;32m----> 3\u001b[0m \u001b[43mcur\u001b[49m\u001b[38;5;241;43m.\u001b[39;49m\u001b[43mexecute\u001b[49m\u001b[43m(\u001b[49m\u001b[38;5;124;43m\"\"\"\u001b[39;49m\u001b[38;5;124;43mINSERT INTO users(username, email, password, scope, disabled)\u001b[39;49m\n\u001b[1;32m      4\u001b[0m \u001b[38;5;124;43m                        VALUES(?, ?, ?, ?, ?)\u001b[39;49m\u001b[38;5;124;43m\"\"\"\u001b[39;49m\u001b[43m,\u001b[49m\n\u001b[1;32m      5\u001b[0m \u001b[43m                        \u001b[49m\u001b[43m(\u001b[49m\u001b[43musername\u001b[49m\u001b[43m,\u001b[49m\u001b[43m \u001b[49m\u001b[43memail\u001b[49m\u001b[43m,\u001b[49m\u001b[43m \u001b[49m\u001b[43mhashed_password\u001b[49m\u001b[43m,\u001b[49m\u001b[43m \u001b[49m\u001b[43mscope\u001b[49m\u001b[43m,\u001b[49m\u001b[43m \u001b[49m\u001b[43mdisabled\u001b[49m\u001b[43m)\u001b[49m\u001b[43m)\u001b[49m\n\u001b[1;32m      6\u001b[0m conn\u001b[38;5;241m.\u001b[39mcommit()\n\u001b[1;32m      7\u001b[0m conn\u001b[38;5;241m.\u001b[39mclose()\n",
      "\u001b[0;31mIntegrityError\u001b[0m: UNIQUE constraint failed: users.username, users.email"
     ]
    }
   ],
   "source": [
    "conn = sqlite3.connect('../database.db')\n",
    "cur = conn.cursor()\n",
    "cur.execute(\"\"\"INSERT INTO users(username, email, password, scope, disabled)\n",
    "                        VALUES(?, ?, ?, ?, ?)\"\"\",\n",
    "                        (username, email, hashed_password, scope, disabled))\n",
    "conn.commit()\n",
    "conn.close()"
   ]
  },
  {
   "cell_type": "code",
   "execution_count": 9,
   "metadata": {},
   "outputs": [
    {
     "name": "stdout",
     "output_type": "stream",
     "text": [
      "('admin', b'$2b$12$DFyh4vdmZMcOJ.qpn2OjnuVYYOBo.G/b5u96k6v2VVZMunbxj6sMm', 'admin@mail.com', 'admin', 0)\n",
      "('user1', b'$2b$12$UvQehXKFxScCMmKlS1KsD.d8PV6UMGS081DKEYc8c.38VF2jKrqcW', 'user1@mail.com', 'user', None)\n",
      "('user2', b'$2b$12$0H1vNyuAeI7Z.lWu3BRAm.nLVM25WcIvsH.5Bte9r7BwR9dbArriW', 'user2@mail.com', 'user', None)\n"
     ]
    }
   ],
   "source": [
    "conn = sqlite3.connect('../database.db')\n",
    "cursor = conn.cursor()\n",
    "\n",
    "res = cursor.execute('SELECT * FROM users')\n",
    "\n",
    "# Boucle pour parcourir les résultats ligne par ligne\n",
    "for row in res:\n",
    "    print(row)\n",
    "\n",
    "# Fermer la connexion à la base de données\n",
    "conn.close()"
   ]
  },
  {
   "cell_type": "code",
   "execution_count": 15,
   "metadata": {},
   "outputs": [],
   "source": [
    "conn = sqlite3.connect('../database.db')\n",
    "cur = conn.cursor()\n",
    "\n",
    "cur.execute(\"\"\"UPDATE users SET disabled = 'True' WHERE username = ?\"\"\",(username,))\n",
    "conn.commit()\n",
    "conn.close()"
   ]
  },
  {
   "cell_type": "code",
   "execution_count": 40,
   "metadata": {},
   "outputs": [
    {
     "name": "stdout",
     "output_type": "stream",
     "text": [
      "('admin', b'$2b$12$DFyh4vdmZMcOJ.qpn2OjnuVYYOBo.G/b5u96k6v2VVZMunbxj6sMm', 'admin@mail.com', 'admin', 0)\n",
      "('user1', b'$2b$12$UvQehXKFxScCMmKlS1KsD.d8PV6UMGS081DKEYc8c.38VF2jKrqcW', 'user1@mail.com', 'user', 'True')\n",
      "('user2', b'$2b$12$0H1vNyuAeI7Z.lWu3BRAm.nLVM25WcIvsH.5Bte9r7BwR9dbArriW', 'user2@mail.com', 'user', None)\n",
      "('user3', b'$2b$12$2mvynOSYZg2m/EFcy.O.HefI/AevWy7WebAucMSsJSPIgc2wV6aH6', 'user3@mail.com', 'user', None)\n",
      "('user100', b'$2b$12$wG2yuNfzZQv59o1M0gtrKOwTXh5ol1iLUdR4F5BBYixgL3aW/AMb.', 'user100@mail.com', 'user', None)\n",
      "('user111', b'$2b$12$2bhuN8seeA.sfhuS13aCLOWsKv8pajR1Uh0rm..ZWcFNWO7fD/A.e', 'user111@mail.com', 'user', 1)\n",
      "('user112', b'$2b$12$yP6wSTxvRfWnCJcoMgLcRuVCT.yUhB4mxP1XY4cGDY6/4ayM0W2uS', 'user112@mail.com', 'user', 1)\n",
      "('user113', b'$2b$12$X/dhpwrH4jwXSzYdvBcCkeLMLbEx0y/M1spsxfR8zzy7/sBQVr4YW', 'user113@mail.com', 'user', 0)\n",
      "('user114', b'$2b$12$TfKavKOTH9i4EpCW.Q.SoeW1WDOEnscGmHu5.v7iGfwLpx1UKd86G', 'user114@mail.com', 'user', 0)\n",
      "('user115', b'$2b$12$4BM/SBfhhySOia6PyRZheOJHxlQlAvHL.9GdXWdvVqwyY8aLUhQy2', 'user115@mail.com', 'user', 1)\n",
      "('user116', b'$2b$12$J0GxW3.6UXDiB7sSX3TAf.nY195R3doIrwKBxsjGgwqjQwDgzSXiO', 'user116@mail.com', 'user', 1)\n",
      "('user666', b'$2b$12$Y6YDHQUNyIUTq92Z0QexfehgCTN7XteE9ookOyjz99.ADzd/41ri2', 'user666@mail.com', 'user', 1)\n",
      "('user777', b'$2b$12$3BpM7Y46E8RJs9KB5QoJa.k.FIjp0R8ClQKoj/XEZ0OU2aGkJ4sBq', 'user777@mail.com', 'user', 1)\n",
      "('user999', b'$2b$12$BflLArNk3p7TDtjGtgmmZ.vOdy1/iFnlXBjXTiJWDG1RANFzUKDtC', 'user999@mail.com', 'user', 1)\n"
     ]
    }
   ],
   "source": [
    "conn = sqlite3.connect('../database.db')\n",
    "cursor = conn.cursor()\n",
    "\n",
    "res = cursor.execute('SELECT * FROM users')\n",
    "\n",
    "# Boucle pour parcourir les résultats ligne par ligne\n",
    "for row in res:\n",
    "    print(row)\n",
    "\n",
    "# Fermer la connexion à la base de données\n",
    "conn.close()"
   ]
  },
  {
   "cell_type": "code",
   "execution_count": null,
   "metadata": {},
   "outputs": [],
   "source": []
  }
 ],
 "metadata": {
  "kernelspec": {
   "display_name": "env",
   "language": "python",
   "name": "python3"
  },
  "language_info": {
   "codemirror_mode": {
    "name": "ipython",
    "version": 3
   },
   "file_extension": ".py",
   "mimetype": "text/x-python",
   "name": "python",
   "nbconvert_exporter": "python",
   "pygments_lexer": "ipython3",
   "version": "3.10.6"
  }
 },
 "nbformat": 4,
 "nbformat_minor": 2
}
