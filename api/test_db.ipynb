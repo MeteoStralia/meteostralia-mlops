{
 "cells": [
  {
   "cell_type": "code",
   "execution_count": 2,
   "metadata": {},
   "outputs": [],
   "source": [
    "import sqlite3\n",
    "import bcrypt"
   ]
  },
  {
   "cell_type": "code",
   "execution_count": 3,
   "metadata": {},
   "outputs": [],
   "source": [
    "conn = sqlite3.connect('../database.db')\n",
    "cursor = conn.cursor()\n",
    "\n",
    "cursor.execute('''DROP TABLE users''')\n",
    "\n",
    "conn.close()"
   ]
  },
  {
   "cell_type": "code",
   "execution_count": 4,
   "metadata": {},
   "outputs": [],
   "source": [
    "conn = sqlite3.connect('../database.db')\n",
    "cursor = conn.cursor()\n",
    "\n",
    "cursor.execute('''\n",
    "CREATE TABLE IF NOT EXISTS users (\n",
    "    username TEXT NOT NULL,\n",
    "    password TEXT NOT NULL,\n",
    "    email TEXT NOT NULL,\n",
    "    scope TEXT,\n",
    "    disabled BOOL,\n",
    "    UNIQUE (username, email)\n",
    "    )\n",
    "''')\n",
    "\n",
    "conn.close()"
   ]
  },
  {
   "cell_type": "code",
   "execution_count": 5,
   "metadata": {},
   "outputs": [],
   "source": [
    "def get_hash(password):\n",
    "    return bcrypt.hashpw(password.encode('utf-8'), bcrypt.gensalt())"
   ]
  },
  {
   "cell_type": "code",
   "execution_count": 6,
   "metadata": {},
   "outputs": [],
   "source": [
    "username = 'admin'\n",
    "email = 'admin@mail.com'\n",
    "hashed_password = get_hash('admin')\n",
    "scope = 'admin'\n",
    "disabled = False\n"
   ]
  },
  {
   "cell_type": "code",
   "execution_count": 7,
   "metadata": {},
   "outputs": [],
   "source": [
    "conn = sqlite3.connect('../database.db')\n",
    "cur = conn.cursor()\n",
    "cur.execute(\"\"\"INSERT INTO users(username, email, password, scope, disabled)\n",
    "                        VALUES(?, ?, ?, ?, ?)\"\"\",\n",
    "                        (username, email, hashed_password, scope, disabled))\n",
    "conn.commit()\n",
    "conn.close()"
   ]
  },
  {
   "cell_type": "code",
   "execution_count": 8,
   "metadata": {},
   "outputs": [
    {
     "name": "stdout",
     "output_type": "stream",
     "text": [
      "('admin', b'$2b$12$VEGXPXKVLzk3FX/uBKAM5uFzIBovP4FczT.iKxTTVUp5/bqQDEPda', 'admin@mail.com', 'admin', 0)\n"
     ]
    }
   ],
   "source": [
    "conn = sqlite3.connect('../database.db')\n",
    "cursor = conn.cursor()\n",
    "\n",
    "res = cursor.execute('SELECT * FROM users')\n",
    "\n",
    "# Boucle pour parcourir les résultats ligne par ligne\n",
    "for row in res:\n",
    "    print(row)\n",
    "\n",
    "# Fermer la connexion à la base de données\n",
    "conn.close()"
   ]
  },
  {
   "cell_type": "code",
   "execution_count": 15,
   "metadata": {},
   "outputs": [],
   "source": [
    "conn = sqlite3.connect('../database.db')\n",
    "cur = conn.cursor()\n",
    "\n",
    "cur.execute(\"\"\"UPDATE users SET disabled = 'True' WHERE username = ?\"\"\",(username,))\n",
    "conn.commit()\n",
    "conn.close()"
   ]
  },
  {
   "cell_type": "code",
   "execution_count": 7,
   "metadata": {},
   "outputs": [
    {
     "name": "stdout",
     "output_type": "stream",
     "text": [
      "('admin', b'$2b$12$VEGXPXKVLzk3FX/uBKAM5uFzIBovP4FczT.iKxTTVUp5/bqQDEPda', 'admin@mail.com', 'admin', 0)\n"
     ]
    }
   ],
   "source": [
    "conn = sqlite3.connect('../database.db')\n",
    "cursor = conn.cursor()\n",
    "\n",
    "res = cursor.execute('SELECT * FROM users')\n",
    "\n",
    "# Boucle pour parcourir les résultats ligne par ligne\n",
    "for row in res:\n",
    "    print(row)\n",
    "\n",
    "# Fermer la connexion à la base de données\n",
    "conn.close()"
   ]
  },
  {
   "cell_type": "code",
   "execution_count": 4,
   "metadata": {},
   "outputs": [],
   "source": [
    "conn = sqlite3.connect('../database.db')\n",
    "cur = conn.cursor()\n",
    "cur.execute(\"\"\"DELETE FROM users WHERE username = ?\"\"\",\n",
    "            ('user4',))\n",
    "conn.commit()\n",
    "conn.close()"
   ]
  },
  {
   "cell_type": "code",
   "execution_count": null,
   "metadata": {},
   "outputs": [],
   "source": []
  }
 ],
 "metadata": {
  "kernelspec": {
   "display_name": "env",
   "language": "python",
   "name": "python3"
  },
  "language_info": {
   "codemirror_mode": {
    "name": "ipython",
    "version": 3
   },
   "file_extension": ".py",
   "mimetype": "text/x-python",
   "name": "python",
   "nbconvert_exporter": "python",
   "pygments_lexer": "ipython3",
   "version": "3.10.6"
  }
 },
 "nbformat": 4,
 "nbformat_minor": 2
}
