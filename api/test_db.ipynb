{
 "cells": [
  {
   "cell_type": "code",
   "execution_count": 20,
   "metadata": {},
   "outputs": [],
   "source": [
    "import sqlite3\n",
    "import bcrypt"
   ]
  },
  {
   "cell_type": "code",
   "execution_count": 21,
   "metadata": {},
   "outputs": [],
   "source": [
    "conn = sqlite3.connect('../database.db')\n",
    "cursor = conn.cursor()\n",
    "\n",
    "cursor.execute('''\n",
    "CREATE TABLE IF NOT EXISTS users (\n",
    "    username TEXT NOT NULL,\n",
    "    password TEXT NOT NULL,\n",
    "    email TEXT NOT NULL,\n",
    "    scope TEXT,\n",
    "    disabled BOOL,\n",
    "    UNIQUE (username, email)\n",
    "    )\n",
    "''')\n",
    "\n",
    "conn.close()"
   ]
  },
  {
   "cell_type": "code",
   "execution_count": 22,
   "metadata": {},
   "outputs": [],
   "source": [
    "def get_hash(password):\n",
    "    return bcrypt.hashpw(password.encode('utf-8'), bcrypt.gensalt())"
   ]
  },
  {
   "cell_type": "code",
   "execution_count": 23,
   "metadata": {},
   "outputs": [],
   "source": [
    "username = 'admin'\n",
    "email = 'admin@mail.com'\n",
    "hashed_password = get_hash('admin')\n",
    "scope = 'admin'\n",
    "disabled = False\n"
   ]
  },
  {
   "cell_type": "code",
   "execution_count": 26,
   "metadata": {},
   "outputs": [],
   "source": [
    "conn = sqlite3.connect('../database.db')\n",
    "cur = conn.cursor()\n",
    "cur.execute(\"\"\"INSERT INTO users(username, email, password, scope, disabled)\n",
    "                        VALUES(?, ?, ?, ?, ?)\"\"\",\n",
    "                        (username, email, hashed_password, scope, disabled))\n",
    "conn.commit()\n",
    "conn.close()"
   ]
  },
  {
   "cell_type": "code",
   "execution_count": 28,
   "metadata": {},
   "outputs": [
    {
     "name": "stdout",
     "output_type": "stream",
     "text": [
      "('admin', b'$2b$12$DFyh4vdmZMcOJ.qpn2OjnuVYYOBo.G/b5u96k6v2VVZMunbxj6sMm', 'admin@mail.com', 'admin', 0)\n",
      "('user1', b'$2b$12$UvQehXKFxScCMmKlS1KsD.d8PV6UMGS081DKEYc8c.38VF2jKrqcW', 'user1@mail.com', 'user', None)\n"
     ]
    }
   ],
   "source": [
    "conn = sqlite3.connect('../database.db')\n",
    "cursor = conn.cursor()\n",
    "\n",
    "res = cursor.execute('SELECT * FROM users')\n",
    "\n",
    "# Boucle pour parcourir les résultats ligne par ligne\n",
    "for row in res:\n",
    "    print(row)\n",
    "\n",
    "# Fermer la connexion à la base de données\n",
    "conn.close()"
   ]
  },
  {
   "cell_type": "code",
   "execution_count": 19,
   "metadata": {},
   "outputs": [
    {
     "ename": "SyntaxError",
     "evalue": "invalid syntax (2194125171.py, line 1)",
     "output_type": "error",
     "traceback": [
      "\u001b[0;36m  Cell \u001b[0;32mIn[19], line 1\u001b[0;36m\u001b[0m\n\u001b[0;31m    PRAGMA table_info(users);\u001b[0m\n\u001b[0m           ^\u001b[0m\n\u001b[0;31mSyntaxError\u001b[0m\u001b[0;31m:\u001b[0m invalid syntax\n"
     ]
    }
   ],
   "source": [
    "PRAGMA table_info(users);"
   ]
  },
  {
   "cell_type": "code",
   "execution_count": null,
   "metadata": {},
   "outputs": [],
   "source": []
  }
 ],
 "metadata": {
  "kernelspec": {
   "display_name": "env",
   "language": "python",
   "name": "python3"
  },
  "language_info": {
   "codemirror_mode": {
    "name": "ipython",
    "version": 3
   },
   "file_extension": ".py",
   "mimetype": "text/x-python",
   "name": "python",
   "nbconvert_exporter": "python",
   "pygments_lexer": "ipython3",
   "version": "3.10.6"
  }
 },
 "nbformat": 4,
 "nbformat_minor": 2
}
